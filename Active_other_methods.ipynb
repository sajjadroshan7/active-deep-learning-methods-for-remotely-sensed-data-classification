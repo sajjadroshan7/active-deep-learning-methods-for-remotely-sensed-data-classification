{
  "nbformat": 4,
  "nbformat_minor": 0,
  "metadata": {
    "colab": {
      "provenance": []
    },
    "kernelspec": {
      "display_name": "Python 3",
      "name": "python3"
    }
  },
  "cells": [
    {
      "cell_type": "code",
      "metadata": {
        "colab": {
          "base_uri": "https://localhost:8080/"
        },
        "id": "JebLx9GfNo08",
        "outputId": "4fb0866b-e4b7-4e69-f42d-9d607de4ea2e"
      },
      "source": [
        "from google.colab import drive\n",
        "drive.mount('/content/drive')\n",
        "\n",
        "!ls 'drive/My Drive'"
      ],
      "execution_count": null,
      "outputs": [
        {
          "output_type": "stream",
          "text": [
            "Drive already mounted at /content/drive; to attempt to forcibly remount, call drive.mount(\"/content/drive\", force_remount=True).\n",
            " 5-tarfi.rar\t\t\t\t    photo-6.pdf\n",
            " Active_maghale.ipynb\t\t\t    photo-7.pdf\n",
            " affain.m\t\t\t\t    photo-8.pdf\n",
            " ahmad\t\t\t\t\t   'photo-91(10).pdf'\n",
            "'Colab Notebooks'\t\t\t   'photo-92(11).pdf'\n",
            "'Copy of Active.ipynb'\t\t\t    photo-9.pdf\n",
            "'Copy of Copy of Untitled1.ipynb'\t   'pp (1).m'\n",
            " datamini\t\t\t\t    pp.m\n",
            " datamini2\t\t\t\t    pytorch\n",
            " demo.ipynb\t\t\t\t    README.md\n",
            "'dr.niazmardi NEURAL NETWORK PROJECT.rar'   RKH.rar\n",
            "'dr sarajian.rar'\t\t\t   'roshan asigment.rar'\n",
            "'Getting started.pdf'\t\t\t    rrr.rar\n",
            " hnet_net.pth\t\t\t\t   'S4&5.rar'\n",
            " indianpines.pth\t\t\t    sajjadroshan97100186.rar\n",
            " kernels.py\t\t\t\t    segnetactive.ipynb\n",
            " khsravi.rar\t\t\t\t   'Single Time AL.rar'\n",
            " LICENSE\t\t\t\t    soltani\n",
            " maghale\t\t\t\t    svm.py\n",
            " matdataset\t\t\t\t    test2.tif\n",
            " mini\t\t\t\t\t    test.tif\n",
            " paiannameh\t\t\t\t   'try doual.ipynb'\n",
            " pdn\t\t\t\t\t   'try patch doual.ipynb'\n",
            " photo-1.pdf\t\t\t\t    Untitled3.m\n",
            " photo-2.pdf\t\t\t\t    اسلاید-45-24.pdf\n",
            " photo-3.pdf\t\t\t\t   'مقاله اول .pdf'\n",
            " photo-5.pdf\n"
          ],
          "name": "stdout"
        }
      ]
    },
    {
      "cell_type": "code",
      "metadata": {
        "colab": {
          "base_uri": "https://localhost:8080/"
        },
        "id": "QKg93T600Bgc",
        "outputId": "a8d644d4-d482-4a2a-f8f3-de4dfa793a61"
      },
      "source": [
        "!pip install modAL\n",
        "import modAL\n",
        "from modAL.models import ActiveLearner\n",
        "from sklearn.neural_network import BernoulliRBM\n",
        "from sklearn.neural_network import MLPClassifier\n",
        "import numpy as np\n",
        "from sklearn import linear_model, datasets, metrics\n",
        "from sklearn.model_selection import train_test_split\n",
        "from sklearn.neural_network import BernoulliRBM\n",
        "import numpy as np\n",
        "from sklearn import linear_model, datasets, metrics\n",
        "from sklearn.pipeline import Pipeline\n",
        "from sklearn import svm\n",
        "from skimage import io\n",
        "import matplotlib.pyplot as plt\n",
        "import matplotlib.patches as mpatches\n",
        "from sklearn.ensemble import RandomForestClassifier\n",
        "from sklearn.metrics import accuracy_score\n",
        "from IPython import display\n",
        "from matplotlib import pyplot as plt\n",
        "import matplotlib as mpl\n",
        "from math import pi\n",
        "from sklearn.pipeline import Pipeline\n",
        "from sklearn.neural_network import BernoulliRBM\n",
        "from sklearn.gaussian_process import GaussianProcessClassifier\n",
        "from sklearn.metrics import confusion_matrix\n",
        "from sklearn.gaussian_process.kernels import RBF\n",
        "import pandas as pd\n",
        "import datetime\n",
        "%matplotlib inline\n",
        "import numpy as np\n",
        "from sklearn.model_selection import train_test_split"
      ],
      "execution_count": null,
      "outputs": [
        {
          "output_type": "stream",
          "text": [
            "Requirement already satisfied: modAL in /usr/local/lib/python3.7/dist-packages (0.4.1)\n",
            "Requirement already satisfied: numpy>=1.13 in /usr/local/lib/python3.7/dist-packages (from modAL) (1.19.5)\n",
            "Requirement already satisfied: scikit-learn>=0.18 in /usr/local/lib/python3.7/dist-packages (from modAL) (0.22.2.post1)\n",
            "Requirement already satisfied: pandas>=1.1.0 in /usr/local/lib/python3.7/dist-packages (from modAL) (1.1.5)\n",
            "Requirement already satisfied: scipy>=0.18 in /usr/local/lib/python3.7/dist-packages (from modAL) (1.4.1)\n",
            "Requirement already satisfied: joblib>=0.11 in /usr/local/lib/python3.7/dist-packages (from scikit-learn>=0.18->modAL) (1.0.1)\n",
            "Requirement already satisfied: python-dateutil>=2.7.3 in /usr/local/lib/python3.7/dist-packages (from pandas>=1.1.0->modAL) (2.8.1)\n",
            "Requirement already satisfied: pytz>=2017.2 in /usr/local/lib/python3.7/dist-packages (from pandas>=1.1.0->modAL) (2018.9)\n",
            "Requirement already satisfied: six>=1.5 in /usr/local/lib/python3.7/dist-packages (from python-dateutil>=2.7.3->pandas>=1.1.0->modAL) (1.15.0)\n"
          ],
          "name": "stdout"
        }
      ]
    },
    {
      "cell_type": "code",
      "metadata": {
        "id": "KD4meEoOxQVI"
      },
      "source": [
        "#COVERT result to image\n",
        "palette = {0 : (255, 255, 255), # Impervious surfaces (white)\n",
        "           1 : (0, 0, 255),     # Buildings (blue)\n",
        "           2 : (0, 255 ,255),   # vegetation (cyan)\n",
        "           3 : (255, 0, 0),     # redclass (red)\n",
        "           4 : (0,255,0),       # Tree (green)\n",
        "           5 : (255, 255, 0)}   # yellow (cars)\n",
        "lables = ['Impervious surfaces','Buildings','vegetation','Tree','redclass','Undefined']\n",
        "invert_palette = {v: k for k, v in palette.items()}\n",
        "def convert_to_color(arr_2d, palette=palette):\n",
        "    \"\"\" Numeric labels to RGB-color encoding \"\"\"\n",
        "    arr_3d = np.zeros((arr_2d.shape[0], arr_2d.shape[1], 3), dtype=np.uint8)\n",
        "\n",
        "    for c, i in palette.items():\n",
        "        m = arr_2d == c\n",
        "        arr_3d[m] = i\n",
        "\n",
        "    return arr_3d\n",
        "\n",
        "def convert_from_color(arr_3d, palette=invert_palette):\n",
        "    \"\"\" RGB-color encoding to grayscale labels \"\"\"\n",
        "    arr_2d = np.zeros((arr_3d.shape[0], arr_3d.shape[1]), dtype=np.uint8)\n",
        "\n",
        "    for c, i in palette.items():\n",
        "        m = np.all(arr_3d == np.array(c).reshape(1, 1, 3), axis=2)\n",
        "        arr_2d[m] = i\n",
        "\n",
        "    return arr_2d"
      ],
      "execution_count": null,
      "outputs": []
    },
    {
      "cell_type": "code",
      "metadata": {
        "colab": {
          "base_uri": "https://localhost:8080/",
          "height": 490
        },
        "id": "MRuXQ761PThc",
        "outputId": "a0794017-600d-428d-8ed7-9e4c89fa7051"
      },
      "source": [
        "#preper Data\n",
        "#Image = io.imread(\"/content/drive/My Drive//mini/imagea1.tif\");im = np.asarray(Image);im = im.reshape(im.shape[0] * im.shape[1],im.shape[2])#/255\n",
        "#gt = io.imread(\"/content/drive/My Drive//mini/imgt.tif\");g = np.asarray(gt);q = gt.reshape(gt.shape[0] * gt.shape[1],gt.shape[2])\n",
        "Image = io.imread(\"/content/drive/My Drive//mini/image.tif\");im = np.asarray(Image);im = im.reshape(im.shape[0] * im.shape[1],im.shape[2])#/255\n",
        "gt = io.imread(\"/content/drive/My Drive//mini/gt.tif\");g = np.asarray(gt);q = gt.reshape(gt.shape[0] * gt.shape[1],gt.shape[2])\n",
        "l0 = Image.shape[0];l1 = Image.shape[1];l2 = Image.shape[2];\n",
        "fig = plt.figure()\n",
        "fig.add_subplot(121)\n",
        "plt.imshow(Image)\n",
        "fig = plt.figure()\n",
        "fig.add_subplot(122)\n",
        "plt.imshow(gt)\n",
        "er = convert_from_color(gt, palette=invert_palette)\n",
        "print(er.shape)\n",
        "gtt = er.reshape(er.shape[0] * er.shape[1])\n",
        "print(im.shape)"
      ],
      "execution_count": null,
      "outputs": [
        {
          "output_type": "stream",
          "text": [
            "(127, 104)\n",
            "(13208, 3)\n"
          ],
          "name": "stdout"
        },
        {
          "output_type": "display_data",
          "data": {
            "image/png": "[encoded data removed]",
            "text/plain": [
              "<Figure size 432x288 with 1 Axes>"
            ]
          },
          "metadata": {
            "tags": [],
            "needs_background": "light"
          }
        },
        {
          "output_type": "display_data",
          "data": {
            "image/png": "[encoded data removed]",
            "text/plain": [
              "<Figure size 432x288 with 1 Axes>"
            ]
          },
          "metadata": {
            "tags": [],
            "needs_background": "light"
          }
        }
      ]
    },
    {
      "cell_type": "code",
      "metadata": {
        "id": "BudGjuVq15DD",
        "colab": {
          "base_uri": "https://localhost:8080/"
        },
        "outputId": "5614cc8d-5b60-4dbb-abe4-8fa5783cbb76"
      },
      "source": [
        "#intila data number\n",
        "n_initial = 100\n",
        "#query num\n",
        "n_queries = 20\n",
        "#Data for active learning\n",
        "im = 1/(np.max(im))*im\n",
        "n_labeled_examples = gtt.shape[0]\n",
        "training_indices = np.random.randint(low=0, high=n_labeled_examples + 1, size=300)\n",
        "\n",
        "X_train = im[training_indices]\n",
        "y_train = gtt[training_indices]\n",
        "\n",
        "# Isolate the non-training examples we'll be querying.\n",
        "X = np.delete(im, training_indices, axis=0)\n",
        "y = np.delete(gtt, training_indices, axis=0)\n",
        "X_pool, X_test, y_pool, y_test = train_test_split(X, y, test_size=0.57, random_state=42)\n",
        "X_train1 = X_train;y_train1 = y_train;X_pool1 = X_pool;X_test1=X_test;y_pool1=y_pool;y_test1=y_test\n",
        "print(im)"
      ],
      "execution_count": null,
      "outputs": [
        {
          "output_type": "stream",
          "text": [
            "[[0.45490196 0.38431373 0.38823529]\n",
            " [0.38431373 0.30980392 0.30196078]\n",
            " [0.1254902  0.10196078 0.10196078]\n",
            " ...\n",
            " [0.33333333 0.29019608 0.30588235]\n",
            " [0.32941176 0.29803922 0.3254902 ]\n",
            " [0.24313725 0.22352941 0.25490196]]\n"
          ],
          "name": "stdout"
        }
      ]
    },
    {
      "cell_type": "code",
      "metadata": {
        "colab": {
          "base_uri": "https://localhost:8080/"
        },
        "id": "aAPmKMaD9MVW",
        "outputId": "f22bbb41-50fe-465f-dfb8-58198d9b502b"
      },
      "source": [
        "print(X_train.shape)\n",
        "print(X_test.shape)\n",
        "print(X_pool.shape)\n",
        "print(gtt.shape)\n",
        "print(y_train.shape)\n",
        "g0=0;g1=0;g2=0;g3=0;\n",
        "for i in range(0,gtt.shape[0]):\n",
        "  if gtt[i]==0:\n",
        "   g0 = g0+1\n",
        "  elif gtt[i]==1:\n",
        "    g1 = g1 +1\n",
        "  elif gtt[i]==2:\n",
        "    g2 = g2 +1\n",
        "  elif gtt[i]==3:\n",
        "    g3 = g3+1\n",
        "print(g0)\n",
        "print(g1)\n",
        "print(g2)\n",
        "print(g3)"
      ],
      "execution_count": null,
      "outputs": [
        {
          "output_type": "stream",
          "text": [
            "(300, 3)\n",
            "(7360, 3)\n",
            "(5552, 3)\n",
            "(13208,)\n",
            "(300,)\n",
            "7249\n",
            "4103\n",
            "1595\n",
            "261\n"
          ],
          "name": "stdout"
        }
      ]
    },
    {
      "cell_type": "code",
      "metadata": {
        "id": "yyr8q7PVEYrY"
      },
      "source": [
        "#Normal MLP\n",
        "a = datetime.datetime.now()\n",
        "ann = MLPClassifier(max_iter=1500, random_state=1,activation='logistic',solver='lbfgs')\n",
        "ann.fit(X_pool, y_pool)\n",
        "image = ann.predict(im)\n",
        "acuracy = accuracy_score(image, gtt, normalize=True)\n",
        "cmmlp = confusion_matrix(image , gtt)\n",
        "image = image.reshape(l0,l1)\n",
        "imaget = convert_to_color(image,palette=palette)\n",
        "imaget = imaget.reshape(l0,l1,l2)\n",
        "plt.imshow(imaget)\n",
        "b = datetime.datetime.now();\n",
        "d = b - a;d=float(d.total_seconds())\n",
        "print(acuracy)\n",
        "print(cmmlp)\n",
        "print(d)"
      ],
      "execution_count": null,
      "outputs": []
    },
    {
      "cell_type": "code",
      "metadata": {
        "id": "3vgw2VuIxggW"
      },
      "source": [],
      "execution_count": null,
      "outputs": []
    },
    {
      "cell_type": "code",
      "metadata": {
        "id": "IKoELMZrt97g"
      },
      "source": [
        "image = ann.predict(im)\n",
        "cmm = confusion_matrix(image,gtt,)\n",
        "image = image.reshape(l0,l1)\n",
        "imaget = convert_to_color(image,palette=palette)\n",
        "imaget = imaget.reshape(l0,l1,l2)\n",
        "plt.imshow(imaget)\n",
        "io.imsave('annactive.tif',imaget)\n",
        "print(cmm)\n",
        "cm = pd.DataFrame(cmm)\n",
        "cm.to_csv('annactive.csv')"
      ],
      "execution_count": null,
      "outputs": []
    },
    {
      "cell_type": "code",
      "metadata": {
        "id": "Wjzoo5Giy-LL"
      },
      "source": [
        "#ANN random sampling\n",
        "X_train = X_train1;y_train = y_train1;X_pool = X_pool1;X_test=X_test1;y_pool=y_pool1;y_test=y_test1\n",
        "n = 10\n",
        "n_queries = 200\n",
        "accrann=[];xlrann=[];tra=[];\n",
        "a = datetime.datetime.now()\n",
        "for i in range(n_queries):\n",
        "  ann = MLPClassifier(max_iter=1500, random_state=1,activation='logistic',solver='lbfgs')\n",
        "  ann.fit(X_train,y_train)\n",
        "  n_labeled_examples = X_pool.shape[0]\n",
        "  indices = np.random.randint(low=0, high=X_pool.shape[0], size=n)\n",
        "  X_t = X_pool[indices]\n",
        "  y_t = y_pool[indices]\n",
        "  X_train =  np.concatenate((X_train,X_t))\n",
        "  y_train =  np.concatenate((y_train,y_t))\n",
        "  X_pool = np.delete(X_pool,indices , axis=0)\n",
        "  y_pool = np.delete(y_pool,indices , axis=0)\n",
        "  test_accuracyANN = ann.score(X_test,y_test);\n",
        "  accrann = accrann + [test_accuracyANN*100];xlrann=xlrann+[len(X_train)]\n",
        "  b = datetime.datetime.now();\n",
        "  d = b - a;d=int(d.total_seconds());tra=tra+[d]\n",
        "  full_accuracyANN = ann.score(im, gtt);\n",
        "  messege = 'accuracy after query'+str(i)+'...'\n",
        "  print(messege,'test:',test_accuracyANN,'...full:',full_accuracyANN)\n",
        "b = datetime.datetime.now()\n",
        "c = b - a\n",
        "print( int(c.total_seconds() * 1000))"
      ],
      "execution_count": null,
      "outputs": []
    },
    {
      "cell_type": "code",
      "metadata": {
        "id": "z39ehx7YWrm4"
      },
      "source": [
        "image = ann.predict(im)\n",
        "cmm = confusion_matrix(image,gtt,)\n",
        "image = image.reshape(l0,l1)\n",
        "imaget = convert_to_color(image,palette=palette)\n",
        "imaget = imaget.reshape(l0,l1,l2)\n",
        "plt.imshow(imaget)\n",
        "io.imsave('annrandomsampling.tif',imaget)\n",
        "print(cmm)\n",
        "cm = pd.DataFrame(cmm)\n",
        "cm.to_csv('annrandom.csv')"
      ],
      "execution_count": null,
      "outputs": []
    },
    {
      "cell_type": "code",
      "metadata": {
        "id": "pK7PRh7yOzrc"
      },
      "source": [
        "#Active learning SVm\n",
        "X_train = X_train1;y_train = y_train1;X_pool = X_pool1;X_test=X_test1;y_pool=y_pool1;y_test=y_test1\n",
        "y_train = y_train.reshape(-1,1);y_test = y_test.reshape(-1,1);y_pool = y_pool.reshape(-1,1);gtt=gtt.reshape(-1,1)\n",
        "n = 10\n",
        "n_queries = 200\n",
        "accs =[];xlas=[];tas=[]\n",
        "a = datetime.datetime.now()\n",
        "for i in range(n_queries):\n",
        "  svc = svm.SVC(probability=True,kernel='poly')\n",
        "  svc.fit(X_train,y_train)\n",
        "  act1 = svc.predict_proba(X_pool)\n",
        "  act = np.zeros((act1.shape[0]))\n",
        "  for vv in range(0,act1.shape[0]):\n",
        "    act [vv]= np.max(act1[vv][:])\n",
        "  #if i == 0:\n",
        "  #d = np.where(act > (np.mean(act)-np.std(act)));\n",
        "  #act = act[d[0]];X_pool = X_pool[d[0]];y_pool = y_pool[d[0]];\n",
        "  ind = np.argsort(act,kind = 'mergesort',axis = 0)\n",
        "  X_pool = np.take_along_axis(X_pool, ind.reshape(-1,1), axis=0)\n",
        "  y_pool = np.take_along_axis(y_pool, ind.reshape(-1,1), axis=0)\n",
        "  X_train =  np.concatenate((X_train,X_pool[0:n]))\n",
        "  y_train =  np.concatenate((y_train,y_pool[0:n]))\n",
        "  X_pool = np.delete(X_pool,[*range(n)] , axis=0)\n",
        "  y_pool = np.delete(y_pool,[*range(n)] , axis=0)\n",
        "  test_accuracyANN = svc.score(X_test,y_test);\n",
        "  accs = accs + [test_accuracyANN*100];xlas=xlas+[len(X_train)]\n",
        "  b = datetime.datetime.now();\n",
        "  d = b - a;d=int(d.total_seconds());tas=tas+[d]\n",
        "  full_accuracyANN = svc.score(im, gtt);\n",
        "  messege = 'accuracy after query'+str(i)+'...'\n",
        "  print(messege,'test:',test_accuracyANN,'...full:',full_accuracyANN)"
      ],
      "execution_count": null,
      "outputs": []
    },
    {
      "cell_type": "code",
      "metadata": {
        "id": "bGF3-dHq184v"
      },
      "source": [
        "image = svc.predict(im)\n",
        "cmm = confusion_matrix(image,gtt,)\n",
        "image = image.reshape(l0,l1)\n",
        "imaget = convert_to_color(image,palette=palette)\n",
        "imaget = imaget.reshape(l0,l1,l2)\n",
        "plt.imshow(imaget)\n",
        "io.imsave('svcractive.tif',imaget)\n",
        "print(cmm)\n",
        "cm = pd.DataFrame(cmm)\n",
        "cm.to_csv('svcactivem.csv')"
      ],
      "execution_count": null,
      "outputs": []
    },
    {
      "cell_type": "code",
      "metadata": {
        "id": "u1ICYmJZzdF5"
      },
      "source": [
        "#SVM random sampling\n",
        "X_train = X_train1;y_train = y_train1;X_pool = X_pool1;X_test=X_test1;y_pool=y_pool1;y_test=y_test1\n",
        "n = 10\n",
        "n_queries = 200\n",
        "accrsvm=[];xlrsvm=[];trs=[];\n",
        "a = datetime.datetime.now()\n",
        "for i in range(n_queries):\n",
        "  svc = svm.SVC(probability=True,kernel='poly')\n",
        "  svc.fit(X_train,y_train)\n",
        "  n_labeled_examples = X_pool.shape[0]\n",
        "  indices = np.random.randint(low=0, high=X_pool.shape[0], size=n)\n",
        "  X_t = X_pool[indices]\n",
        "  y_t = y_pool[indices]\n",
        "  X_train =  np.concatenate((X_train,X_t))\n",
        "  y_train =  np.concatenate((y_train,y_t))\n",
        "  X_pool = np.delete(X_pool,indices , axis=0)\n",
        "  y_pool = np.delete(y_pool,indices , axis=0)\n",
        "  test_accuracyANN = svc.score(X_test,y_test);\n",
        "  accrsvm = accrsvm + [test_accuracyANN*100];xlrsvm=xlrsvm+[len(X_train)];\n",
        "  b = datetime.datetime.now();\n",
        "  d = b - a;d=int(d.total_seconds());trs=trs+[d]\n",
        "  full_accuracyANN = svc.score(im, gtt);\n",
        "  messege = 'accuracy after query'+str(i)+'...'\n",
        "  print(messege,'test:',test_accuracyANN,'...full:',full_accuracyANN)\n",
        "b = datetime.datetime.now()\n",
        "c = b - a\n",
        "print( int(c.total_seconds() * 1000))"
      ],
      "execution_count": null,
      "outputs": []
    },
    {
      "cell_type": "code",
      "metadata": {
        "id": "Rxfv7hYilieL"
      },
      "source": [
        "a = datetime.datetime.now()\n",
        "svc = svc.fit(X_pool,y_pool)\n",
        "image = svc.predict(im)\n",
        "cmm = confusion_matrix(image,gtt,)\n",
        "image = image.reshape(l0,l1)\n",
        "imaget = convert_to_color(image,palette=palette)\n",
        "imaget = imaget.reshape(l0,l1,l2)\n",
        "plt.imshow(imaget)\n",
        "b = datetime.datetime.now();\n",
        "d = b - a;d=float(d.total_seconds())\n",
        "print(d)\n",
        "io.imsave('svcrandom.tif',imaget)\n",
        "print(cmm)\n",
        "cm = pd.DataFrame(cmm)\n",
        "cm.to_csv('svcrandom.csv')\n",
        "full_accuracyANN = svc.score(im, gtt)\n",
        "print(full_accuracyANN)"
      ],
      "execution_count": null,
      "outputs": []
    },
    {
      "cell_type": "code",
      "metadata": {
        "id": "NvIAx80dvQ4d"
      },
      "source": [
        "import numpy as np\n",
        "class MLClassifier:\n",
        "    def fit(self, x: np.ndarray, y: np.ndarray) -> None:\n",
        "        '''\n",
        "        x - numpy array of shape (n, d); n = #observations; d = #variables\n",
        "        y - numpy array of shape (n,)\n",
        "        '''\n",
        "        # no. of variables / dimension\n",
        "        self.d = x.shape[1]\n",
        "\n",
        "        # no. of classes; assumes labels to be integers from 0 to nclasses-1\n",
        "        self.nclasses = len(set(y[:,0]))\n",
        "        classes = tuple(set(y[:,0]))\n",
        "        # list of means; mu_list[i] is mean vector for label i\n",
        "        self.mu_list = []\n",
        "\n",
        "        # list of inverse covariance matrices;\n",
        "        # sigma_list[i] is inverse covariance matrix for label i\n",
        "        # for efficiency reasons we store only the inverses\n",
        "        self.sigma_inv_list = []\n",
        "\n",
        "        # list of scalars in front of e^...\n",
        "        self.scalars = []\n",
        "        cls = classes\n",
        "        n = x.shape[0]\n",
        "        for i in range(self.nclasses):\n",
        "            c = classes[i]\n",
        "            # subset of obesrvations for label i\n",
        "            cls_x = np.array([x[j] for j in range(n) if y[j] == c])\n",
        "\n",
        "            mu = np.mean(cls_x, axis=0)\n",
        "\n",
        "            # rowvar = False, this is to use columns as variables instead of rows\n",
        "            sigma = np.cov(cls_x, rowvar=False)\n",
        "            if np.sum(np.linalg.eigvals(sigma) <= 0) != 0:\n",
        "                # if at least one eigenvalue is <= 0 show warning\n",
        "                print(f'Warning! Covariance matrix for label {cls} is not positive definite!\\n')\n",
        "\n",
        "            sigma_inv = np.linalg.inv(sigma)\n",
        "\n",
        "            scalar = 1/np.sqrt(((2*np.pi)**self.d)*np.linalg.det(sigma))\n",
        "\n",
        "            self.mu_list.append(mu)\n",
        "            self.sigma_inv_list.append(sigma_inv)\n",
        "            self.scalars.append(scalar)\n",
        "\n",
        "    def _class_likelihood(self, x: np.ndarray, cls: int) -> float:\n",
        "        '''\n",
        "        x - numpy array of shape (d,)\n",
        "        cls - class label\n",
        "\n",
        "        Returns: likelihood of x under the assumption that class label is cls\n",
        "        '''\n",
        "        mu = self.mu_list[cls]\n",
        "        sigma_inv = self.sigma_inv_list[cls]\n",
        "        scalar = self.scalars[cls]\n",
        "        d = self.d\n",
        "\n",
        "        exp = (-1/2)*np.dot(np.matmul(x-mu, sigma_inv), x-mu)\n",
        "\n",
        "        return scalar * (np.e**exp)\n",
        "\n",
        "    def predict(self, x: np.ndarray) -> int:\n",
        "        '''\n",
        "        x - numpy array of shape (d,)\n",
        "        Returns: predicted label\n",
        "        '''\n",
        "        likelihoods = [self._class_likelihood(x, i) for i in range(self.nclasses)]\n",
        "        return np.argmax(likelihoods),\n",
        "    def like(self, x: np.ndarray) -> int:\n",
        "        '''\n",
        "        x - numpy array of shape (d,)\n",
        "        Returns: predicted label\n",
        "        '''\n",
        "        likelihoods = [self._class_likelihood(x, i) for i in range(self.nclasses)]\n",
        "        return np.max(likelihoods),\n",
        "    def predicting(self, x: np.ndarray, y: np.ndarray) -> float:\n",
        "        '''\n",
        "        x - numpy array of shape (n, d); n = #observations; d = #variables\n",
        "        y - numpy array of shape (n,)\n",
        "        Returns: accuracy of predictions\n",
        "        '''\n",
        "        n = x.shape[0]\n",
        "        predicted_y = np.array([self.predict(x[i]) for i in range(n)])\n",
        "        #n_correct = np.sum(predicted_y == y)\n",
        "        n_correct = predicted_y\n",
        "        return n_correct\n",
        "    def likehood(self, x: np.ndarray, y: np.ndarray) -> float:\n",
        "        '''\n",
        "        x - numpy array of shape (n, d); n = #observations; d = #variables\n",
        "        y - numpy array of shape (n,)\n",
        "        Returns: accuracy of predictions\n",
        "        '''\n",
        "        n = x.shape[0]\n",
        "        predicted_y = np.array([self.like(x[i]) for i in range(n)])\n",
        "        n_correct = predicted_y\n",
        "        return n_correct"
      ],
      "execution_count": null,
      "outputs": []
    },
    {
      "cell_type": "code",
      "metadata": {
        "id": "vspVngyAvm5s"
      },
      "source": [
        "#MLCnormal\n",
        "#y_train = y_train.reshape(-1,1);y_test = y_test.reshape(-1,1);y_pool = y_pool.reshape(-1,1);gtt=gtt.reshape(-1,1)\n",
        "X_train = X_train1;y_train = y_train1;X_pool = X_pool1;X_test=X_test1;y_pool=y_pool1;y_test=y_test1\n",
        "y_train = y_train.reshape(-1,1);y_test = y_test.reshape(-1,1);y_pool = y_pool.reshape(-1,1);gtt=gtt.reshape(-1,1);accactivemlc=[];xlactivemlc=[]\n",
        "a = datetime.datetime.now()\n",
        "mlc=MLClassifier()\n",
        "mlc.fit(X_pool,y_pool)\n",
        "image = mlc.predicting(im,gtt)\n",
        "acuracy = accuracy_score(image, gtt, normalize=True)\n",
        "image = image.reshape(l0,l1)\n",
        "imaget = convert_to_color(image,palette=palette)\n",
        "imaget = imaget.reshape(l0,l1,l2)\n",
        "plt.imshow(imaget)\n",
        "b = datetime.datetime.now();\n",
        "d = b - a;d=float(d.total_seconds() )\n",
        "print(d)\n",
        "atc = mlc.likehood(X_pool,y_pool)\n",
        "print(atc)\n",
        "print(acuracy)"
      ],
      "execution_count": null,
      "outputs": []
    },
    {
      "cell_type": "code",
      "metadata": {
        "id": "-uaS2R0NLp8A"
      },
      "source": [
        "#maximum likelihood active Learning\n",
        "X_train = X_train1;y_train = y_train1;X_pool = X_pool1;X_test=X_test1;y_pool=y_pool1;y_test=y_test1\n",
        "y_train = y_train.reshape(-1,1);y_test = y_test.reshape(-1,1);y_pool = y_pool.reshape(-1,1);gtt=gtt.reshape(-1,1);\n",
        "accactivemlc=[];xlactivemlc=[];tam=[]\n",
        "n = 10\n",
        "n_queries = 200\n",
        "a = datetime.datetime.now()\n",
        "for i in range(n_queries):\n",
        "  mlc=MLClassifier()\n",
        "  mlc.fit(X_train,y_train)\n",
        "  act = mlc.likehood(X_pool,y_pool)\n",
        "  #if i == 0:\n",
        "  #d = np.where(act > (np.mean(act)-np.std(act)));\n",
        "  #act = act[d[0]];X_pool = X_pool[d[0]];y_pool = y_pool[d[0]];\n",
        "  inds = np.argsort(act,kind = 'mergesort',axis = 0)\n",
        "  X_pool = np.take_along_axis(X_pool, inds, axis=0)\n",
        "  y_pool = np.take_along_axis(y_pool, inds, axis=0)\n",
        "  X_train =  np.concatenate((X_train,X_pool[0:n]))\n",
        "  y_train =  np.concatenate((y_train,y_pool[0:n]))\n",
        "  X_pool = np.delete(X_pool,[*range(n)] , axis=0)\n",
        "  y_pool = np.delete(y_pool,[*range(n)] , axis=0)\n",
        "  test_accuracyMLC = mlc.predicting(X_test,y_test);test_accuracyMLC = accuracy_score(y_test, test_accuracyMLC, normalize=True)*100;\n",
        "  b = datetime.datetime.now();\n",
        "  d = b - a;d=int(d.total_seconds() );tam=tam+[d]\n",
        "  accactivemlc = accactivemlc + [test_accuracyMLC];xlactivemlc=xlactivemlc+[X_train.shape[0]]\n",
        "  full_accuracyMLC = mlc.predicting(im, gtt);full_accuracyMLC = accuracy_score(gtt, full_accuracyMLC , normalize=True)*100;\n",
        "  messege = 'accuracy after query'+str(i)+'...'\n",
        "  print(messege,'test:',test_accuracyMLC,'...full:',full_accuracyMLC)"
      ],
      "execution_count": null,
      "outputs": []
    },
    {
      "cell_type": "code",
      "metadata": {
        "id": "BHm_fVNl2fv-"
      },
      "source": [
        "image = mlc.predicting(im,gtt)\n",
        "cmm = confusion_matrix(image,gtt,)\n",
        "image = image.reshape(l0,l1)\n",
        "imaget = convert_to_color(image,palette=palette)\n",
        "imaget = imaget.reshape(l0,l1,l2)\n",
        "plt.imshow(imaget)\n",
        "io.imsave('mlcactive.tif',imaget)\n",
        "print(cmm)\n",
        "cm = pd.DataFrame(cmm)\n",
        "cm.to_csv('mlcactivem.csv')"
      ],
      "execution_count": null,
      "outputs": []
    },
    {
      "cell_type": "code",
      "metadata": {
        "id": "kIHTRZ079s5T"
      },
      "source": [
        "#MLC random sampling\n",
        "X_train = X_train1;y_train = y_train1;X_pool = X_pool1;X_test=X_test1;y_pool=y_pool1;y_test=y_test1\n",
        "y_train = y_train.reshape(-1,1);y_test = y_test.reshape(-1,1);y_pool = y_pool.reshape(-1,1);gtt=gtt.reshape(-1,1);\n",
        "n = 10\n",
        "n_queries = 200\n",
        "accrmlc=[];xlrmlc=[];trm=[]\n",
        "a = datetime.datetime.now()\n",
        "for i in range(n_queries):\n",
        "  mlc=MLClassifier()\n",
        "  mlc.fit(X_train,y_train)\n",
        "  n_labeled_examples = X_pool.shape[0]\n",
        "  indices = np.random.randint(low=0, high=X_pool.shape[0], size=n)\n",
        "  X_t = X_pool[indices]\n",
        "  y_t = y_pool[indices]\n",
        "  X_train =  np.concatenate((X_train,X_t))\n",
        "  y_train =  np.concatenate((y_train,y_t))\n",
        "  X_pool = np.delete(X_pool,indices , axis=0)\n",
        "  y_pool = np.delete(y_pool,indices , axis=0)\n",
        "  test_accuracyMLC = mlc.predicting(X_test,y_test);test_accuracyMLC = accuracy_score(y_test, test_accuracyMLC, normalize=True)*100;\n",
        "  b = datetime.datetime.now();\n",
        "  d = b - a;d=int(d.total_seconds());trm=trm+[d]\n",
        "  accrmlc = accrmlc + [test_accuracyMLC];xlrmlc=xlrmlc+[X_train.shape[0]]\n",
        "  full_accuracyMLC = mlc.predicting(im, gtt);full_accuracyMLC = accuracy_score(gtt, full_accuracyMLC , normalize=True)*100;\n",
        "  messege = 'accuracy after query'+str(i)+'...'\n",
        "  print(messege,'test:',test_accuracyMLC,'...full:',full_accuracyMLC)\n",
        "b = datetime.datetime.now()\n",
        "c = b - a\n",
        "print( int(c.total_seconds()))"
      ],
      "execution_count": null,
      "outputs": []
    },
    {
      "cell_type": "code",
      "metadata": {
        "id": "vGz--7052m9N"
      },
      "source": [
        "image = mlc.predicting(im,gtt)\n",
        "cmm = confusion_matrix(image,gtt,)\n",
        "image = image.reshape(l0,l1)\n",
        "imaget = convert_to_color(image,palette=palette)\n",
        "imaget = imaget.reshape(l0,l1,l2)\n",
        "plt.imshow(imaget)\n",
        "io.imsave('mlcrandom.tif',imaget)\n",
        "print(cmm)\n",
        "cm = pd.DataFrame(cmm)\n",
        "cm.to_csv('mlcrandom.csv')"
      ],
      "execution_count": null,
      "outputs": []
    },
    {
      "cell_type": "code",
      "metadata": {
        "id": "TtXq2ekwuo7J"
      },
      "source": [
        "#plot lengh\n",
        "plt.plot(xlactivemlc,accactivemlc,\"b\")\n",
        "plt.plot(xlrmlc,accrmlc,\"r\")\n",
        "plt.plot(xlrann,accrann,\"orange\")\n",
        "plt.plot(xla,acca,\"c\")\n",
        "plt.plot(xlas,accs,\"g\")\n",
        "plt.plot(xlrsvm,accrsvm,\"y\")\n",
        "line1 = mpatches.Patch( label='ANN by active learning',color='c')\n",
        "line2 = mpatches.Patch( label='Ann by random sampling',color='orange')\n",
        "line3 = mpatches.Patch( label='DBN by active learning',color='green')\n",
        "line4 = mpatches.Patch( label='DBN by random sampling',color='y')\n",
        "line5 = mpatches.Patch( label='mlc by active learning',color='b')\n",
        "line6 = mpatches.Patch( label='mlc by random sampling',color='r')\n",
        "plt.legend(handles=[line1,line2,line3,line4,line5,line6],loc='lower right')\n",
        "plt.savefig('xNEW.tif')"
      ],
      "execution_count": null,
      "outputs": []
    },
    {
      "cell_type": "code",
      "metadata": {
        "id": "Ad896AsG5Mc1"
      },
      "source": [
        "plt.plot(tam,accactivemlc,\"b\")\n",
        "plt.plot(trm,accrmlc,\"r\")\n",
        "plt.plot(tra,accrann,\"orange\")\n",
        "plt.plot(taa,acca,\"c\")\n",
        "plt.plot(tas,accs,\"g\")\n",
        "plt.plot(trs,accrsvm,\"y\")\n",
        "line1 = mpatches.Patch( label='ANN by active learning',color='c')\n",
        "line2 = mpatches.Patch( label='Ann by random sampling',color='orange')\n",
        "line3 = mpatches.Patch( label='DBN by active learning',color='green')\n",
        "line4 = mpatches.Patch( label='DBN by random sampling',color='y')\n",
        "line5 = mpatches.Patch( label='mlc by active learning',color='b')\n",
        "line6 = mpatches.Patch( label='mlc by random sampling',color='r')\n",
        "plt.legend(handles=[line1,line2,line3,line4,line5,line6])\n",
        "plt.savefig('tNEW.tif')"
      ],
      "execution_count": null,
      "outputs": []
    },
    {
      "cell_type": "code",
      "metadata": {
        "id": "qlKn2b8W8W5x"
      },
      "source": [
        "#mlcstatics__________________________0.6353725015142337____________0.5__________\n",
        "print(np.max(tam))\n",
        "print(np.max(trm))\n",
        "print(np.max(accactivemlc))\n",
        "print(np.max(accrmlc))"
      ],
      "execution_count": null,
      "outputs": []
    },
    {
      "cell_type": "code",
      "metadata": {
        "id": "NL4OrMUf26zT"
      },
      "source": [
        "#PLOTMLC\n",
        "plt.plot(tam,accactivemlc,\"b\")\n",
        "plt.plot(trm,accrmlc,\"r\")\n",
        "line5 = mpatches.Patch( label='mlc by active learning',color='b')\n",
        "line6 = mpatches.Patch( label='mlc by random sampling',color='r')\n",
        "plt.legend(handles=[line5,line6])\n",
        "plt.savefig('tmlc.tif')"
      ],
      "execution_count": null,
      "outputs": []
    },
    {
      "cell_type": "code",
      "metadata": {
        "id": "IJX9Qdfk8x73"
      },
      "source": [
        "#ann statics________________________0.7724106602059359_________53.27\n",
        "print(np.max(taa))\n",
        "print(np.max(tra))\n",
        "print(np.max(acca))\n",
        "print(np.max(accrann))"
      ],
      "execution_count": null,
      "outputs": []
    },
    {
      "cell_type": "code",
      "metadata": {
        "id": "B3VXGKkj3Loi"
      },
      "source": [
        "#ann plot time\n",
        "plt.plot(tra,accrann,\"orange\")\n",
        "plt.plot(taa,acca,\"c\")\n",
        "line1 = mpatches.Patch( label='ANN by active learning',color='c')\n",
        "line2 = mpatches.Patch( label='Ann by random sampling',color='orange')\n",
        "plt.legend(handles=[line1,line2])\n",
        "plt.savefig('tann.tif')"
      ],
      "execution_count": null,
      "outputs": []
    },
    {
      "cell_type": "code",
      "metadata": {
        "id": "XhFLdelbC1j8"
      },
      "source": [
        "#ann plot X\n",
        "plt.plot(xlrann,accrann,\"orange\")\n",
        "plt.plot(xla,acca,\"c\")\n",
        "line1 = mpatches.Patch( label='ANN by active learning',color='c')\n",
        "line2 = mpatches.Patch( label='Ann by random sampling',color='orange')\n",
        "plt.legend(handles=[line1,line2])\n",
        "plt.savefig('tann.tif')"
      ],
      "execution_count": null,
      "outputs": []
    },
    {
      "cell_type": "code",
      "metadata": {
        "id": "IMlERoo49hGY"
      },
      "source": [
        "#svm statics_________________73.40248334342823______________38.85\n",
        "print(np.max(tas))\n",
        "print(np.max(trs))\n",
        "print(np.max(accs))\n",
        "print(np.max(accrsvm))"
      ],
      "execution_count": null,
      "outputs": []
    },
    {
      "cell_type": "code",
      "metadata": {
        "id": "J5Svf7-sDbwJ"
      },
      "source": [
        "#plot svm time\n",
        "plt.plot(tas,accs,\"g\")\n",
        "plt.plot(trs,accrsvm,\"y\")\n",
        "line3 = mpatches.Patch( label='DBN by active learning',color='green')\n",
        "line4 = mpatches.Patch( label='DBN by random sampling',color='y')\n",
        "plt.legend(handles=[line3,line4])\n",
        "plt.savefig('xNEW.tif')"
      ],
      "execution_count": null,
      "outputs": []
    },
    {
      "cell_type": "code",
      "metadata": {
        "colab": {
          "base_uri": "https://localhost:8080/"
        },
        "id": "sPt3Lu1zJz-a",
        "outputId": "2efde8d2-d171-4c49-d5c7-5b4cfb9e2261"
      },
      "source": [
        "cls_number = 4\n",
        "h_gt = np.histogram(gt,bins =cls_number)\n",
        "h_train = np.histogram(y_train,bins=cls_number)\n",
        "h_test = np.histogram(y_test,bins=cls_number)\n",
        "h_pool = np.histogram(y_pool,bins=cls_number)\n",
        "print('train_histogram',h_train[0])\n",
        "print('test_histogram',h_test[0])\n",
        "print('pool_histogram',h_pool[0])\n",
        "print('gt_histogram',h_gt[0])\n",
        "print(np.max(y_train))"
      ],
      "execution_count": null,
      "outputs": [
        {
          "output_type": "stream",
          "text": [
            "train_histogram [165  92  37   6]\n",
            "test_histogram [4061 2284  874  141]\n",
            "pool_histogram [3026 1727  685  114]\n",
            "gt_histogram [13450  1129  1120 23925]\n",
            "3\n"
          ],
          "name": "stdout"
        }
      ]
    }
  ]
}